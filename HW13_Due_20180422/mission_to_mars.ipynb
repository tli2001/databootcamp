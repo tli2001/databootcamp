{
 "cells": [
  {
   "cell_type": "markdown",
   "metadata": {},
   "source": [
    "## Step 1 - Scraping\n",
    "_______________________________________________________________________________\n",
    "Reminder: activate mongo db [mongod]\n",
    "_______________________________________________________________________________"
   ]
  },
  {
   "cell_type": "code",
   "execution_count": 1,
   "metadata": {},
   "outputs": [],
   "source": [
    "# Dependencies\n",
    "from bs4 import BeautifulSoup\n",
    "import requests\n",
    "import pymongo\n",
    "import pandas as pd\n",
    "from pprint import pprint"
   ]
  },
  {
   "cell_type": "code",
   "execution_count": 2,
   "metadata": {},
   "outputs": [],
   "source": [
    "# Initialize PyMongo to work with MongoDBs\n",
    "conn = 'mongodb://localhost:27017'\n",
    "client = pymongo.MongoClient(conn)"
   ]
  },
  {
   "cell_type": "code",
   "execution_count": 3,
   "metadata": {},
   "outputs": [],
   "source": [
    "# Define database and collection\n",
    "db = client.mars_db\n",
    "collection = db.marsdata"
   ]
  },
  {
   "cell_type": "code",
   "execution_count": 4,
   "metadata": {},
   "outputs": [],
   "source": [
    "# URL of pages to be scraped\n",
    "url1 = 'https://mars.nasa.gov/news/'\n",
    "url2 = 'https://www.jpl.nasa.gov/spaceimages/?search=&category=Mars'\n",
    "url3 = 'https://twitter.com/marswxreport?lang=en'\n",
    "url4 = 'http://space-facts.com/mars/'\n",
    "url5 = 'https://astrogeology.usgs.gov/search/results?q=hemisphere+enhanced&k1=target&v1=Mars'"
   ]
  },
  {
   "cell_type": "code",
   "execution_count": 5,
   "metadata": {},
   "outputs": [],
   "source": [
    "# Scrape Format:\n",
    "\n",
    "##### Get request of url to be scraped\n",
    "# response = requests.get(url)\n",
    "\n",
    "##### Create Beautiful Soup Object and parse with 'lxml'\n",
    "# soup = BeautifulSoup(response.text, 'lxml')\n",
    "\n",
    "##### Print object to determine element that contains sought info\n",
    "# print(soup.prettify())"
   ]
  },
  {
   "cell_type": "markdown",
   "metadata": {},
   "source": [
    "### NASA Mars News\n",
    "Scrape the [NASA Mars News Site](https://mars.nasa.gov/news/) and collect the latest News Title and Paragragh Text"
   ]
  },
  {
   "cell_type": "code",
   "execution_count": 6,
   "metadata": {},
   "outputs": [],
   "source": [
    "# Retrieve page with the requests module\n",
    "response1 = requests.get(url1)\n",
    "# Create BeautifulSoup object; parse with 'lxml'\n",
    "soup1 = BeautifulSoup(response1.text, 'lxml')"
   ]
  },
  {
   "cell_type": "code",
   "execution_count": 7,
   "metadata": {},
   "outputs": [],
   "source": [
    "# Search for article location within soup object\n",
    "results = soup1.find_all('div', class_='slide')"
   ]
  },
  {
   "cell_type": "code",
   "execution_count": 8,
   "metadata": {},
   "outputs": [
    {
     "name": "stdout",
     "output_type": "stream",
     "text": [
      "NASA Invests in Visionary Technology  - NASA is investing in technology concepts, including several from JPL, that may one day be used for future space exploration missions.\n"
     ]
    }
   ],
   "source": [
    "# Find latest article on Mars\n",
    "news_title = results[0].find(\"div\", class_=\"content_title\").text\n",
    "news_title = news_title.replace('\\n',\"\")\n",
    "news_para = results[0].find(\"div\", class_=\"rollover_description_inner\").text\n",
    "news_para = news_para.replace('\\n',\"\")\n",
    "print(f\"{news_title} - {news_para}\")"
   ]
  },
  {
   "cell_type": "code",
   "execution_count": 9,
   "metadata": {},
   "outputs": [],
   "source": [
    "# Method for finding all news articles\n",
    "# Loop through returned results\n",
    "# for result in results:\n",
    "    # Error handling\n",
    "#    try:\n",
    "        # Identify and return title of news article\n",
    "#        news_title = result.find(\"div\", class_=\"content_title\").text\n",
    "        # Identify and return paragraph of news article\n",
    "#        news_para = result.find(\"div\", class_=\"rollover_description_inner\").text\n",
    "#    except Exception as e:\n",
    "#        print(e)\n",
    "    # Dictionary to be inserted into MongoDB\n",
    "#    post = {\n",
    "#        'title': news_title,\n",
    "#        'para': news_para,\n",
    "#    }\n",
    "    # Insert dictionary into MongoDB as a document\n",
    "#    collection.insert_one(post)"
   ]
  },
  {
   "cell_type": "markdown",
   "metadata": {},
   "source": [
    "### JPL Mars Space Images - Featured Image\n",
    "Visit the url for JPL's Featured Space Image [here](https://www.jpl.nasa.gov/spaceimages/?search=&category=Mars)"
   ]
  },
  {
   "cell_type": "code",
   "execution_count": 10,
   "metadata": {},
   "outputs": [],
   "source": [
    "# Retrieve page with the requests module\n",
    "response2 = requests.get(url2)\n",
    "# Create BeautifulSoup object; parse with 'lxml'\n",
    "soup2 = BeautifulSoup(response2.text, 'lxml')\n",
    "# print(soup2.prettify())"
   ]
  },
  {
   "cell_type": "code",
   "execution_count": 11,
   "metadata": {},
   "outputs": [],
   "source": [
    "slide = soup2.find('li', class_='slide')\n",
    "pic_url = slide.find('a', class_='fancybox')\n",
    "# pic_url"
   ]
  },
  {
   "cell_type": "code",
   "execution_count": 12,
   "metadata": {},
   "outputs": [
    {
     "name": "stdout",
     "output_type": "stream",
     "text": [
      "Lobo Vallis - https://www.jpl.nasa.gov/spaceimages/images/largesize/PIA22374_hires.jpg\n"
     ]
    }
   ],
   "source": [
    "# base used to construct full link to image file\n",
    "featured_image_base = 'https://www.jpl.nasa.gov'\n",
    "featured_image_url = featured_image_base + pic_url['data-fancybox-href']\n",
    "featured_image_title = pic_url['data-title']\n",
    "print(f\"{featured_image_title} - {featured_image_url}\")"
   ]
  },
  {
   "cell_type": "code",
   "execution_count": 13,
   "metadata": {},
   "outputs": [],
   "source": [
    "# Dictionary to be inserted into MongoDB\n",
    "# post = {\n",
    "#    'title': featured_image_title,\n",
    "#    'img_url': featured_image_url,\n",
    "# }\n",
    "# Insert dictionary into MongoDB as a document\n",
    "# collection.insert_one(post)"
   ]
  },
  {
   "cell_type": "markdown",
   "metadata": {},
   "source": [
    "### Mars Weather\n",
    "Visit the Mars Weather twitter account [here](https://twitter.com/marswxreport?lang=en) and scrape the latest Mars weather tweet from the page."
   ]
  },
  {
   "cell_type": "code",
   "execution_count": 14,
   "metadata": {},
   "outputs": [],
   "source": [
    "# Retrieve page with the requests module\n",
    "response3 = requests.get(url3)\n",
    "# Create BeautifulSoup object; parse with 'lxml'\n",
    "soup3 = BeautifulSoup(response3.text, 'lxml')\n",
    "# print(soup3.prettify())"
   ]
  },
  {
   "cell_type": "code",
   "execution_count": 15,
   "metadata": {},
   "outputs": [
    {
     "data": {
      "text/plain": [
       "'Sol 2026 (April 18, 2018), Sunny, high -6C/21F, low -73C/-99F, pressure at 7.19 hPa, daylight 05:26-17:21'"
      ]
     },
     "execution_count": 15,
     "metadata": {},
     "output_type": "execute_result"
    }
   ],
   "source": [
    "mars_weather = soup3.find('div', class_='js-tweet-text-container').text\n",
    "mars_weather = mars_weather.replace('\\n',\"\")\n",
    "mars_weather"
   ]
  },
  {
   "cell_type": "code",
   "execution_count": 16,
   "metadata": {},
   "outputs": [],
   "source": [
    "# Dictionary to be inserted into MongoDB\n",
    "# post = {\n",
    "#    'title': \"Current Weather on Mars\",\n",
    "#    'para': mars_weather,\n",
    "# }\n",
    "# Insert dictionary into MongoDB as a document\n",
    "# collection.insert_one(post)"
   ]
  },
  {
   "cell_type": "markdown",
   "metadata": {},
   "source": [
    "### Mars Facts\n",
    "Visit the Mars Facts webpage [here](http://space-facts.com/mars/) and use Pandas to scrape the table containing facts about the planet including Diameter, Mass, etc. Use Pandas to convert the data to a HTML table string."
   ]
  },
  {
   "cell_type": "code",
   "execution_count": 17,
   "metadata": {},
   "outputs": [],
   "source": [
    "tables = pd.read_html(url4)\n",
    "# tables"
   ]
  },
  {
   "cell_type": "code",
   "execution_count": 18,
   "metadata": {},
   "outputs": [
    {
     "data": {
      "text/html": [
       "<div>\n",
       "<style scoped>\n",
       "    .dataframe tbody tr th:only-of-type {\n",
       "        vertical-align: middle;\n",
       "    }\n",
       "\n",
       "    .dataframe tbody tr th {\n",
       "        vertical-align: top;\n",
       "    }\n",
       "\n",
       "    .dataframe thead th {\n",
       "        text-align: right;\n",
       "    }\n",
       "</style>\n",
       "<table border=\"1\" class=\"dataframe\">\n",
       "  <thead>\n",
       "    <tr style=\"text-align: right;\">\n",
       "      <th></th>\n",
       "      <th>Value</th>\n",
       "    </tr>\n",
       "    <tr>\n",
       "      <th>Measurement</th>\n",
       "      <th></th>\n",
       "    </tr>\n",
       "  </thead>\n",
       "  <tbody>\n",
       "    <tr>\n",
       "      <th>Equatorial Diameter:</th>\n",
       "      <td>6,792 km</td>\n",
       "    </tr>\n",
       "    <tr>\n",
       "      <th>Polar Diameter:</th>\n",
       "      <td>6,752 km</td>\n",
       "    </tr>\n",
       "    <tr>\n",
       "      <th>Mass:</th>\n",
       "      <td>6.42 x 10^23 kg (10.7% Earth)</td>\n",
       "    </tr>\n",
       "    <tr>\n",
       "      <th>Moons:</th>\n",
       "      <td>2 (Phobos &amp; Deimos)</td>\n",
       "    </tr>\n",
       "    <tr>\n",
       "      <th>Orbit Distance:</th>\n",
       "      <td>227,943,824 km (1.52 AU)</td>\n",
       "    </tr>\n",
       "  </tbody>\n",
       "</table>\n",
       "</div>"
      ],
      "text/plain": [
       "                                              Value\n",
       "Measurement                                        \n",
       "Equatorial Diameter:                       6,792 km\n",
       "Polar Diameter:                            6,752 km\n",
       "Mass:                 6.42 x 10^23 kg (10.7% Earth)\n",
       "Moons:                          2 (Phobos & Deimos)\n",
       "Orbit Distance:            227,943,824 km (1.52 AU)"
      ]
     },
     "execution_count": 18,
     "metadata": {},
     "output_type": "execute_result"
    }
   ],
   "source": [
    "mars_df = pd.DataFrame(tables[0])\n",
    "mars_df.columns = ['Measurement',\"Value\"]\n",
    "mars_df.set_index('Measurement', inplace=True)\n",
    "mars_df.head()"
   ]
  },
  {
   "cell_type": "code",
   "execution_count": 19,
   "metadata": {},
   "outputs": [
    {
     "data": {
      "text/plain": [
       "{'Value': {'Equatorial Diameter:': '6,792 km',\n",
       "  'First Record:': '2nd millennium BC',\n",
       "  'Mass:': '6.42 x 10^23 kg (10.7% Earth)',\n",
       "  'Moons:': '2 (Phobos & Deimos)',\n",
       "  'Orbit Distance:': '227,943,824 km (1.52 AU)',\n",
       "  'Orbit Period:': '687 days (1.9 years)',\n",
       "  'Polar Diameter:': '6,752 km',\n",
       "  'Recorded By:': 'Egyptian astronomers',\n",
       "  'Surface Temperature:': '-153 to 20 °C'}}"
      ]
     },
     "execution_count": 19,
     "metadata": {},
     "output_type": "execute_result"
    }
   ],
   "source": [
    "marsfactsdict = mars_df.to_dict()\n",
    "marsfactsdict"
   ]
  },
  {
   "cell_type": "code",
   "execution_count": 20,
   "metadata": {},
   "outputs": [],
   "source": [
    "# Method to convert table into html format and remove extra new line feed\n",
    "# mars_html = mars_df.to_html()\n",
    "# mars_html.replace('\\n',\"\")\n",
    "# mars_html\n",
    "\n",
    "# Output dataframe to html file\n",
    "# mars_df.to_html('mars_table.html')"
   ]
  },
  {
   "cell_type": "markdown",
   "metadata": {},
   "source": [
    "### Mars Hemisperes\n",
    "Visit the USGS Astrogeology site [here](https://astrogeology.usgs.gov/search/results?q=hemisphere+enhanced&k1=target&v1=Mars) to obtain high resolution images for each of Mar's hemispheres. Save the full resolution hemipshere image, and the Hemisphere title containing the hemisphere name, and store in Python dictionary with keys `img_url` and `title`. Append the dictionary with the image url string and the hemisphere title to a list. This list will contain one dictionary for each hemisphere."
   ]
  },
  {
   "cell_type": "code",
   "execution_count": 21,
   "metadata": {},
   "outputs": [],
   "source": [
    "# Retrieve page with the requests module\n",
    "response5 = requests.get(url5)\n",
    "# Create BeautifulSoup object; parse with 'lxml'\n",
    "soup5 = BeautifulSoup(response5.text, 'lxml')"
   ]
  },
  {
   "cell_type": "code",
   "execution_count": 22,
   "metadata": {},
   "outputs": [],
   "source": [
    "# Search for hemispheres within soup object\n",
    "results = soup5.find_all('div', class_='item')"
   ]
  },
  {
   "cell_type": "code",
   "execution_count": 23,
   "metadata": {},
   "outputs": [],
   "source": [
    "# base used to construct full link to image file\n",
    "img_dl_base = 'https://astrogeology.usgs.gov'\n",
    "# list and dictionary set up to store hemisphere titles and image urls\n",
    "hemilist = []\n",
    "hemidict = {}"
   ]
  },
  {
   "cell_type": "code",
   "execution_count": 24,
   "metadata": {
    "scrolled": true
   },
   "outputs": [],
   "source": [
    "# Loop through returned results\n",
    "for result in results:\n",
    "    # Error handling\n",
    "    try:\n",
    "        # Identify and return hemisphere title\n",
    "        hemi_title = result.find(\"h3\").text\n",
    "        # Identify and return image of hemisphere [this link goes to the image dl page]\n",
    "        img_dl_url = result.a['href']\n",
    "        # construct link to download the hemisphere image\n",
    "        url = img_dl_base + img_dl_url\n",
    "        # use constructed link to scrape hemisphere image\n",
    "        response = requests.get(url)\n",
    "        soup = BeautifulSoup(response.text, 'lxml')\n",
    "        result = soup.find(\"div\", class_=\"downloads\")\n",
    "        # save hemisphere image url\n",
    "        hemi_url = result.a['href']\n",
    "    except Exception as e:\n",
    "        print(e)\n",
    "    # Python Dictionary of hemisphere title and image url\n",
    "    hemidict = {\n",
    "        'title': hemi_title,\n",
    "        'img_url': hemi_url,\n",
    "    }\n",
    "    # Append hemisphere dictionary to list \n",
    "    hemilist.append(hemidict)"
   ]
  },
  {
   "cell_type": "code",
   "execution_count": 25,
   "metadata": {},
   "outputs": [
    {
     "name": "stdout",
     "output_type": "stream",
     "text": [
      "[{'img_url': 'http://astropedia.astrogeology.usgs.gov/download/Mars/Viking/cerberus_enhanced.tif/full.jpg',\n",
      "  'title': 'Cerberus Hemisphere Enhanced'},\n",
      " {'img_url': 'http://astropedia.astrogeology.usgs.gov/download/Mars/Viking/schiaparelli_enhanced.tif/full.jpg',\n",
      "  'title': 'Schiaparelli Hemisphere Enhanced'},\n",
      " {'img_url': 'http://astropedia.astrogeology.usgs.gov/download/Mars/Viking/syrtis_major_enhanced.tif/full.jpg',\n",
      "  'title': 'Syrtis Major Hemisphere Enhanced'},\n",
      " {'img_url': 'http://astropedia.astrogeology.usgs.gov/download/Mars/Viking/valles_marineris_enhanced.tif/full.jpg',\n",
      "  'title': 'Valles Marineris Hemisphere Enhanced'}]\n"
     ]
    }
   ],
   "source": [
    "pprint(hemilist)"
   ]
  },
  {
   "cell_type": "code",
   "execution_count": 26,
   "metadata": {},
   "outputs": [],
   "source": [
    "# List of Dictionaries to be inserted into MongoDB\n",
    "# post = {\n",
    "#    'hemi': hemilist,\n",
    "# }\n",
    "# Insert dictionary into MongoDB as a document\n",
    "# collection.insert_one(post)"
   ]
  },
  {
   "cell_type": "code",
   "execution_count": 27,
   "metadata": {},
   "outputs": [],
   "source": [
    "# Display the MongoDB records stored from the above scraping\n",
    "# contents = db.marsdata.find()\n",
    "# for content in contents:\n",
    "#    pprint(content)"
   ]
  },
  {
   "cell_type": "code",
   "execution_count": 28,
   "metadata": {},
   "outputs": [],
   "source": [
    "# USE FOR CLEANUP ONLY\n",
    "# collection.drop()"
   ]
  },
  {
   "cell_type": "markdown",
   "metadata": {},
   "source": [
    "#### Combined News, Featured Image, Weather, Facts, and Hemispheres Scraped Data into a Python Dictionary"
   ]
  },
  {
   "cell_type": "code",
   "execution_count": 30,
   "metadata": {},
   "outputs": [
    {
     "name": "stdout",
     "output_type": "stream",
     "text": [
      "{'facts': {'Value': {'Equatorial Diameter:': '6,792 km',\n",
      "                     'First Record:': '2nd millennium BC',\n",
      "                     'Mass:': '6.42 x 10^23 kg (10.7% Earth)',\n",
      "                     'Moons:': '2 (Phobos & Deimos)',\n",
      "                     'Orbit Distance:': '227,943,824 km (1.52 AU)',\n",
      "                     'Orbit Period:': '687 days (1.9 years)',\n",
      "                     'Polar Diameter:': '6,752 km',\n",
      "                     'Recorded By:': 'Egyptian astronomers',\n",
      "                     'Surface Temperature:': '-153 to 20 °C'}},\n",
      " 'featured': {'img_url': 'https://www.jpl.nasa.gov/spaceimages/images/largesize/PIA22374_hires.jpg',\n",
      "              'title': 'Lobo Vallis'},\n",
      " 'hemispheres': [{'img_url': 'http://astropedia.astrogeology.usgs.gov/download/Mars/Viking/cerberus_enhanced.tif/full.jpg',\n",
      "                  'title': 'Cerberus Hemisphere Enhanced'},\n",
      "                 {'img_url': 'http://astropedia.astrogeology.usgs.gov/download/Mars/Viking/schiaparelli_enhanced.tif/full.jpg',\n",
      "                  'title': 'Schiaparelli Hemisphere Enhanced'},\n",
      "                 {'img_url': 'http://astropedia.astrogeology.usgs.gov/download/Mars/Viking/syrtis_major_enhanced.tif/full.jpg',\n",
      "                  'title': 'Syrtis Major Hemisphere Enhanced'},\n",
      "                 {'img_url': 'http://astropedia.astrogeology.usgs.gov/download/Mars/Viking/valles_marineris_enhanced.tif/full.jpg',\n",
      "                  'title': 'Valles Marineris Hemisphere Enhanced'}],\n",
      " 'news': {'para': 'NASA is investing in technology concepts, including several '\n",
      "                  'from JPL, that may one day be used for future space '\n",
      "                  'exploration missions.',\n",
      "          'title': 'NASA Invests in Visionary Technology '},\n",
      " 'weather': {'para': 'Sol 2026 (April 18, 2018), Sunny, high -6C/21F, low '\n",
      "                     '-73C/-99F, pressure at 7.19 hPa, daylight 05:26-17:21',\n",
      "             'title': 'Current Weather on Mars'}}\n"
     ]
    }
   ],
   "source": [
    "# Single Python Dictionary with all scraped data\n",
    "# example on querying data: mars_data['news']['title']\n",
    "# example on querying hemispheres data: mars_data['hemispheres'][0]['title']\n",
    "mars_data = {\n",
    "    'news': {\n",
    "        'title': news_title,\n",
    "        'para': news_para,\n",
    "    },\n",
    "    'featured': {\n",
    "        'title': featured_image_title,\n",
    "        'img_url': featured_image_url,\n",
    "    },\n",
    "    'weather': {\n",
    "        'title': \"Current Weather on Mars\",\n",
    "        'para': mars_weather,        \n",
    "    },\n",
    "    'facts': marsfactsdict,\n",
    "    'hemispheres': hemilist\n",
    "}\n",
    "pprint(mars_data)"
   ]
  }
 ],
 "metadata": {
  "kernelspec": {
   "display_name": "Python (pdata)",
   "language": "python",
   "name": "pdata"
  },
  "language_info": {
   "codemirror_mode": {
    "name": "ipython",
    "version": 3
   },
   "file_extension": ".py",
   "mimetype": "text/x-python",
   "name": "python",
   "nbconvert_exporter": "python",
   "pygments_lexer": "ipython3",
   "version": "3.6.4"
  }
 },
 "nbformat": 4,
 "nbformat_minor": 2
}
