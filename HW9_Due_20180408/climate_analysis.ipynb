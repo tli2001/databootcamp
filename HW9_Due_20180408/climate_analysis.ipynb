{
 "cells": [
  {
   "cell_type": "markdown",
   "metadata": {},
   "source": [
    "### Step 3 - Climate Analysis and Exploration\n",
    "\n",
    "You are now ready to use Python and SQLAlchemy to do basic climate analysis and data exploration on your new weather station tables. All of the following analysis should be completed using SQLAlchemy ORM queries, Pandas, and Matplotlib.\n",
    "- Choose a start date and end date for your trip. Make sure that your vacation range is approximately 3-15 days total.\n",
    "- Use SQLAlchemy create_engine to connect to your sqlite database.\n",
    "- Use SQLAlchemy automap_base() to reflect your tables into classes and save a reference to those classes called Station and Measurement."
   ]
  },
  {
   "cell_type": "code",
   "execution_count": 1,
   "metadata": {},
   "outputs": [],
   "source": [
    "# Import Dependencies\n",
    "import sqlalchemy\n",
    "from sqlalchemy import create_engine, inspect, func\n",
    "from sqlalchemy.ext.automap import automap_base\n",
    "from sqlalchemy.orm import Session\n",
    "import pandas as pd\n",
    "import matplotlib.pyplot as plt\n",
    "import seaborn as sns\n",
    "import matplotlib.dates as mdates\n",
    "import datetime as dt\n",
    "import numpy as np"
   ]
  },
  {
   "cell_type": "code",
   "execution_count": 2,
   "metadata": {},
   "outputs": [
    {
     "data": {
      "text/plain": [
       "['measurements', 'stations']"
      ]
     },
     "execution_count": 2,
     "metadata": {},
     "output_type": "execute_result"
    }
   ],
   "source": [
    "# Set up engine, classes and reflection\n",
    "engine = create_engine(\"sqlite:///hawaii.sqlite\")\n",
    "#conn = engine.connect()\n",
    "Base = automap_base()\n",
    "Base.prepare(engine, reflect=True)\n",
    "Base.classes.keys()"
   ]
  },
  {
   "cell_type": "code",
   "execution_count": 3,
   "metadata": {},
   "outputs": [
    {
     "data": {
      "text/plain": [
       "['measurements', 'stations']"
      ]
     },
     "execution_count": 3,
     "metadata": {},
     "output_type": "execute_result"
    }
   ],
   "source": [
    "# Reference to classes\n",
    "Measurement = Base.classes.measurements\n",
    "Station = Base.classes.stations\n",
    "# Set up session connection and inspector\n",
    "session = Session(engine)\n",
    "inspector = inspect(engine)\n",
    "inspector.get_table_names()"
   ]
  },
  {
   "cell_type": "code",
   "execution_count": 4,
   "metadata": {},
   "outputs": [
    {
     "name": "stdout",
     "output_type": "stream",
     "text": [
      "id INTEGER\n",
      "station TEXT\n",
      "date TEXT\n",
      "prcp FLOAT\n",
      "tobs INTEGER\n"
     ]
    }
   ],
   "source": [
    "measurement_columns = inspector.get_columns('measurements')\n",
    "for column in measurement_columns:\n",
    "    print(column['name'],column['type'])"
   ]
  },
  {
   "cell_type": "code",
   "execution_count": 5,
   "metadata": {
    "scrolled": true
   },
   "outputs": [
    {
     "name": "stdout",
     "output_type": "stream",
     "text": [
      "id INTEGER\n",
      "station TEXT\n",
      "name TEXT\n",
      "latitude FLOAT\n",
      "longitude FLOAT\n",
      "elevation FLOAT\n"
     ]
    }
   ],
   "source": [
    "station_columns = inspector.get_columns('stations')\n",
    "for column in station_columns:\n",
    "    print(column['name'],column['type'])"
   ]
  },
  {
   "cell_type": "markdown",
   "metadata": {},
   "source": [
    "### Precipitation Analysis\n",
    "- Design a query to retrieve the last 12 months of precipitation data.\n",
    "- Select only the date and prcp values.\n",
    "- Load the query results into a Pandas DataFrame and set the index to the date column.\n",
    "- Plot the results using the DataFrame plot method.\n",
    "- Use Pandas to print the summary statistics for the precipitation data."
   ]
  },
  {
   "cell_type": "code",
   "execution_count": 6,
   "metadata": {},
   "outputs": [
    {
     "data": {
      "text/plain": [
       "[(18103)]"
      ]
     },
     "execution_count": 6,
     "metadata": {},
     "output_type": "execute_result"
    }
   ],
   "source": [
    "# Count total number of precipitation records in Measurement\n",
    "session.query(func.count(Measurement.date)).all()"
   ]
  },
  {
   "cell_type": "code",
   "execution_count": 7,
   "metadata": {},
   "outputs": [
    {
     "data": {
      "text/html": [
       "<div>\n",
       "<style scoped>\n",
       "    .dataframe tbody tr th:only-of-type {\n",
       "        vertical-align: middle;\n",
       "    }\n",
       "\n",
       "    .dataframe tbody tr th {\n",
       "        vertical-align: top;\n",
       "    }\n",
       "\n",
       "    .dataframe thead th {\n",
       "        text-align: right;\n",
       "    }\n",
       "</style>\n",
       "<table border=\"1\" class=\"dataframe\">\n",
       "  <thead>\n",
       "    <tr style=\"text-align: right;\">\n",
       "      <th></th>\n",
       "      <th>prcp</th>\n",
       "    </tr>\n",
       "    <tr>\n",
       "      <th>date</th>\n",
       "      <th></th>\n",
       "    </tr>\n",
       "  </thead>\n",
       "  <tbody>\n",
       "    <tr>\n",
       "      <th>2017-04-07</th>\n",
       "      <td>0.0</td>\n",
       "    </tr>\n",
       "    <tr>\n",
       "      <th>2017-04-08</th>\n",
       "      <td>0.0</td>\n",
       "    </tr>\n",
       "    <tr>\n",
       "      <th>2017-04-09</th>\n",
       "      <td>0.0</td>\n",
       "    </tr>\n",
       "    <tr>\n",
       "      <th>2017-04-10</th>\n",
       "      <td>0.0</td>\n",
       "    </tr>\n",
       "    <tr>\n",
       "      <th>2017-04-11</th>\n",
       "      <td>0.0</td>\n",
       "    </tr>\n",
       "  </tbody>\n",
       "</table>\n",
       "</div>"
      ],
      "text/plain": [
       "            prcp\n",
       "date            \n",
       "2017-04-07   0.0\n",
       "2017-04-08   0.0\n",
       "2017-04-09   0.0\n",
       "2017-04-10   0.0\n",
       "2017-04-11   0.0"
      ]
     },
     "execution_count": 7,
     "metadata": {},
     "output_type": "execute_result"
    }
   ],
   "source": [
    "# Using SQLAlchemy\n",
    "today = dt.date.today()\n",
    "precip = session.query(Measurement.date, Measurement.prcp)\\\n",
    "    .filter(Measurement.date >= (today - dt.timedelta(days=365))).all()\n",
    "precip_df = pd.DataFrame(precip, columns=[\"date\",\"prcp\"]).set_index('date')\n",
    "precip_df.head()"
   ]
  },
  {
   "cell_type": "code",
   "execution_count": 8,
   "metadata": {},
   "outputs": [
    {
     "data": {
      "text/plain": [
       "<matplotlib.axes._subplots.AxesSubplot at 0xac8ff60>"
      ]
     },
     "execution_count": 8,
     "metadata": {},
     "output_type": "execute_result"
    },
    {
     "data": {
      "image/png": "[encoded data removed]",
      "text/plain": [
       "<matplotlib.figure.Figure at 0xacbb278>"
      ]
     },
     "metadata": {},
     "output_type": "display_data"
    }
   ],
   "source": [
    "sns.set()\n",
    "precip_df.plot(figsize=(10,6),title=(f\"Past 12 Months of Precipitation in Hawaii from {today}\"), x_compat=True)\n",
    "# plt.xticks(rotation='45')"
   ]
  },
  {
   "cell_type": "code",
   "execution_count": 9,
   "metadata": {},
   "outputs": [
    {
     "data": {
      "text/html": [
       "<div>\n",
       "<style scoped>\n",
       "    .dataframe tbody tr th:only-of-type {\n",
       "        vertical-align: middle;\n",
       "    }\n",
       "\n",
       "    .dataframe tbody tr th {\n",
       "        vertical-align: top;\n",
       "    }\n",
       "\n",
       "    .dataframe thead th {\n",
       "        text-align: right;\n",
       "    }\n",
       "</style>\n",
       "<table border=\"1\" class=\"dataframe\">\n",
       "  <thead>\n",
       "    <tr style=\"text-align: right;\">\n",
       "      <th></th>\n",
       "      <th>prcp</th>\n",
       "    </tr>\n",
       "  </thead>\n",
       "  <tbody>\n",
       "    <tr>\n",
       "      <th>count</th>\n",
       "      <td>727.000000</td>\n",
       "    </tr>\n",
       "    <tr>\n",
       "      <th>mean</th>\n",
       "      <td>0.175598</td>\n",
       "    </tr>\n",
       "    <tr>\n",
       "      <th>std</th>\n",
       "      <td>0.439748</td>\n",
       "    </tr>\n",
       "    <tr>\n",
       "      <th>min</th>\n",
       "      <td>0.000000</td>\n",
       "    </tr>\n",
       "    <tr>\n",
       "      <th>25%</th>\n",
       "      <td>0.000000</td>\n",
       "    </tr>\n",
       "    <tr>\n",
       "      <th>50%</th>\n",
       "      <td>0.020000</td>\n",
       "    </tr>\n",
       "    <tr>\n",
       "      <th>75%</th>\n",
       "      <td>0.150000</td>\n",
       "    </tr>\n",
       "    <tr>\n",
       "      <th>max</th>\n",
       "      <td>6.250000</td>\n",
       "    </tr>\n",
       "  </tbody>\n",
       "</table>\n",
       "</div>"
      ],
      "text/plain": [
       "             prcp\n",
       "count  727.000000\n",
       "mean     0.175598\n",
       "std      0.439748\n",
       "min      0.000000\n",
       "25%      0.000000\n",
       "50%      0.020000\n",
       "75%      0.150000\n",
       "max      6.250000"
      ]
     },
     "execution_count": 9,
     "metadata": {},
     "output_type": "execute_result"
    }
   ],
   "source": [
    "precip_df.describe()"
   ]
  },
  {
   "cell_type": "markdown",
   "metadata": {},
   "source": [
    "### Station Analysis\n",
    "- Design a query to calculate the total number of stations.\n",
    "- Design a query to find the most active stations.\n",
    "    - List the stations and observation counts in descending order\n",
    "    - Which station has the highest number of observations?\n",
    "- Design a query to retrieve the last 12 months of temperature observation data (tobs).\n",
    "    - Filter by the station with the highest number of observations.\n",
    "    - Plot the results as a histogram with bins=12."
   ]
  },
  {
   "cell_type": "code",
   "execution_count": 10,
   "metadata": {},
   "outputs": [
    {
     "data": {
      "text/plain": [
       "[(9)]"
      ]
     },
     "execution_count": 10,
     "metadata": {},
     "output_type": "execute_result"
    }
   ],
   "source": [
    "# Count the total number of stations in Station\n",
    "session.query(func.count(Station.station)).all()"
   ]
  },
  {
   "cell_type": "code",
   "execution_count": 11,
   "metadata": {},
   "outputs": [
    {
     "data": {
      "text/plain": [
       "[('USC00519281', 2772, 'WAIHEE 837.5, HI US'),\n",
       " ('USC00513117', 2696, 'KANEOHE 838.1, HI US'),\n",
       " ('USC00519397', 2685, 'WAIKIKI 717.2, HI US'),\n",
       " ('USC00519523', 2572, 'WAIMANALO EXPERIMENTAL FARM, HI US'),\n",
       " ('USC00516128', 2484, 'MANOA LYON ARBO 785.2, HI US'),\n",
       " ('USC00514830', 1937, 'KUALOA RANCH HEADQUARTERS 886.9, HI US'),\n",
       " ('USC00511918', 1932, 'HONOLULU OBSERVATORY 702.2, HI US'),\n",
       " ('USC00517948', 683, 'PEARL CITY, HI US'),\n",
       " ('USC00518838', 342, 'UPPER WAHIAWA 874.3, HI US')]"
      ]
     },
     "execution_count": 11,
     "metadata": {},
     "output_type": "execute_result"
    }
   ],
   "source": [
    "session.query(Measurement.station, func.count(Measurement.station), Station.name)\\\n",
    "    .filter(Measurement.station == Station.station).group_by(Station.name)\\\n",
    "    .order_by(func.count(Measurement.station).desc()).all()"
   ]
  },
  {
   "cell_type": "code",
   "execution_count": 12,
   "metadata": {
    "scrolled": false
   },
   "outputs": [],
   "source": [
    "tobs = session.query(Measurement.date, Measurement.tobs)\\\n",
    "    .filter(Measurement.date >= (today - dt.timedelta(days=365)))\\\n",
    "    .filter(Measurement.station == \"USC00519281\").all()"
   ]
  },
  {
   "cell_type": "code",
   "execution_count": 13,
   "metadata": {},
   "outputs": [
    {
     "data": {
      "text/html": [
       "<div>\n",
       "<style scoped>\n",
       "    .dataframe tbody tr th:only-of-type {\n",
       "        vertical-align: middle;\n",
       "    }\n",
       "\n",
       "    .dataframe tbody tr th {\n",
       "        vertical-align: top;\n",
       "    }\n",
       "\n",
       "    .dataframe thead th {\n",
       "        text-align: right;\n",
       "    }\n",
       "</style>\n",
       "<table border=\"1\" class=\"dataframe\">\n",
       "  <thead>\n",
       "    <tr style=\"text-align: right;\">\n",
       "      <th></th>\n",
       "      <th>temperature</th>\n",
       "    </tr>\n",
       "    <tr>\n",
       "      <th>date</th>\n",
       "      <th></th>\n",
       "    </tr>\n",
       "  </thead>\n",
       "  <tbody>\n",
       "    <tr>\n",
       "      <th>2017-04-07</th>\n",
       "      <td>74</td>\n",
       "    </tr>\n",
       "    <tr>\n",
       "      <th>2017-04-08</th>\n",
       "      <td>77</td>\n",
       "    </tr>\n",
       "    <tr>\n",
       "      <th>2017-04-09</th>\n",
       "      <td>78</td>\n",
       "    </tr>\n",
       "    <tr>\n",
       "      <th>2017-04-10</th>\n",
       "      <td>67</td>\n",
       "    </tr>\n",
       "    <tr>\n",
       "      <th>2017-04-11</th>\n",
       "      <td>70</td>\n",
       "    </tr>\n",
       "  </tbody>\n",
       "</table>\n",
       "</div>"
      ],
      "text/plain": [
       "            temperature\n",
       "date                   \n",
       "2017-04-07           74\n",
       "2017-04-08           77\n",
       "2017-04-09           78\n",
       "2017-04-10           67\n",
       "2017-04-11           70"
      ]
     },
     "execution_count": 13,
     "metadata": {},
     "output_type": "execute_result"
    }
   ],
   "source": [
    "active_station = \"USC00519281\"\n",
    "tobs_df = pd.DataFrame(tobs, columns=['date','temperature']).set_index('date')\n",
    "tobs_df.head()"
   ]
  },
  {
   "cell_type": "code",
   "execution_count": 14,
   "metadata": {},
   "outputs": [
    {
     "data": {
      "text/plain": [
       "Text(0.5,1,'Frequency of Temperature Observed at Station USC00519281')"
      ]
     },
     "execution_count": 14,
     "metadata": {},
     "output_type": "execute_result"
    },
    {
     "data": {
      "image/png": "[encoded data removed]",
      "text/plain": [
       "<matplotlib.figure.Figure at 0xb14ba20>"
      ]
     },
     "metadata": {},
     "output_type": "display_data"
    }
   ],
   "source": [
    "plt.figure(figsize=(10,6))\n",
    "plt.hist(x=tobs_df['temperature'], bins=12)\n",
    "plt.title(f\"Frequency of Temperature Observed at Station {active_station}\")"
   ]
  },
  {
   "cell_type": "markdown",
   "metadata": {},
   "source": [
    "### Temperature Analysis\n",
    "- Write a function called calc_temps that will accept a start date and end date in the format %Y-%m-%d and return the minimum, average, and maximum temperatures for that range of dates.\n",
    "- Use the calc_temps function to calculate the min, avg, and max temperatures for your trip using the matching dates from the previous year (i.e. use \"2017-01-01\" if your trip start date was \"2018-01-01\")\n",
    "- Plot the min, avg, and max temperature from your previous query as a bar chart.\n",
    "    - Use the average temperature as the bar height.\n",
    "    - Use the peak-to-peak (tmax-tmin) value as the y error bar (yerr)."
   ]
  },
  {
   "cell_type": "code",
   "execution_count": 15,
   "metadata": {},
   "outputs": [],
   "source": [
    "def calc_temps(start_date, end_date):\n",
    "    results = session.query(Measurement.tobs)\\\n",
    "        .filter(Measurement.date.between(start_date,end_date)).all()\n",
    "    \n",
    "    tempmin = min(results)\n",
    "    tempmax = max(results)\n",
    "    tempavg = np.mean(results)\n",
    "    #return results\n",
    "    return tempmin[0], tempmax[0], tempavg"
   ]
  },
  {
   "cell_type": "code",
   "execution_count": 33,
   "metadata": {},
   "outputs": [
    {
     "data": {
      "text/plain": [
       "(74, 81, 77.55555555555556)"
      ]
     },
     "execution_count": 33,
     "metadata": {},
     "output_type": "execute_result"
    }
   ],
   "source": [
    "# Define start and end dates for trip in YYYY-MM-DD string format:\n",
    "mytripstart = \"2018-07-01\"\n",
    "mytripend = \"2018-07-07\"\n",
    "# Convert start and end dates to the prior year:\n",
    "prevyrstart = dt.datetime.strptime(mytripstart,'%Y-%m-%d')- dt.timedelta(days=365)\n",
    "prevyrend = dt.datetime.strptime(mytripend,'%Y-%m-%d')- dt.timedelta(days=365)\n",
    "# run prior year dates through calc_temps function to retrieve the min, max, and avg temp of the dates\n",
    "tripfcst = calc_temps(prevyrstart,prevyrend)\n",
    "tripfcst"
   ]
  },
  {
   "cell_type": "code",
   "execution_count": 96,
   "metadata": {},
   "outputs": [
    {
     "data": {
      "text/plain": [
       "Text(0.5,1,'Trip Avg Temp')"
      ]
     },
     "execution_count": 96,
     "metadata": {},
     "output_type": "execute_result"
    },
    {
     "data": {
      "image/png": "[encoded data removed]",
      "text/plain": [
       "<matplotlib.figure.Figure at 0xcfc6630>"
      ]
     },
     "metadata": {},
     "output_type": "display_data"
    }
   ],
   "source": [
    "# Breaking out function results for clarity\n",
    "mean = tripfcst[2]\n",
    "yerr = (tripfcst[1]-tripfcst[0])\n",
    "title = 'Trip Avg Temp'\n",
    "\n",
    "fig, ax = plt.subplots(figsize=(2,6))\n",
    "ax.bar(x=0, y=0, height=mean, yerr=yerr, color=\"lightcoral\", alpha=0.5)\n",
    "ax.set_title(title, fontsize=16)"
   ]
  },
  {
   "cell_type": "markdown",
   "metadata": {},
   "source": [
    "### Optional Recommended Analysis\n",
    "- The following are optional challenge queries. These are highly recommended to attempt, but not required for the homework.\n",
    "- Calcualte the rainfall per weather station using the previous year's matching dates.\n",
    "- Calculate the daily normals. Normals are the averages for min, avg, and max temperatures.\n",
    "    - Create a function called daily_normals that will calculate the daily normals for a specific date. This date string will be in the format %m-%d. Be sure to use all historic tobs that match that date string.\n",
    "    - Create a list of dates for your trip in the format %m-%d. Use the daily_normals function to calculate the normals for each date string and append the results to a list.\n",
    "    - Load the list of daily normals into a Pandas DataFrame and set the index equal to the date.\n",
    "    - Use Pandas to plot an area plot (stacked=False) for the daily normals."
   ]
  }
 ],
 "metadata": {
  "kernelspec": {
   "display_name": "Python [conda env:pythondata2]",
   "language": "python",
   "name": "pythondata2"
  },
  "language_info": {
   "codemirror_mode": {
    "name": "ipython",
    "version": 3
   },
   "file_extension": ".py",
   "mimetype": "text/x-python",
   "name": "python",
   "nbconvert_exporter": "python",
   "pygments_lexer": "ipython3",
   "version": "3.6.4"
  }
 },
 "nbformat": 4,
 "nbformat_minor": 2
}
